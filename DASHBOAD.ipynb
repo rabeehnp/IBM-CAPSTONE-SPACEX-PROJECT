{
 "cells": [
  {
   "cell_type": "code",
   "execution_count": 1,
   "id": "394a5339",
   "metadata": {},
   "outputs": [
    {
     "name": "stdout",
     "output_type": "stream",
     "text": [
      "Requirement already satisfied: pandas in c:\\users\\91755\\anaconda3\\lib\\site-packages (1.2.4)\n",
      "Requirement already satisfied: dash in c:\\users\\91755\\anaconda3\\lib\\site-packages (2.2.0)\n",
      "Requirement already satisfied: dash-core-components==2.0.0 in c:\\users\\91755\\anaconda3\\lib\\site-packages (from dash) (2.0.0)\n",
      "Requirement already satisfied: plotly>=5.0.0 in c:\\users\\91755\\anaconda3\\lib\\site-packages (from dash) (5.6.0)\n",
      "Requirement already satisfied: flask-compress in c:\\users\\91755\\anaconda3\\lib\\site-packages (from dash) (1.11)\n",
      "Requirement already satisfied: Flask>=1.0.4 in c:\\users\\91755\\anaconda3\\lib\\site-packages (from dash) (1.1.2)\n",
      "Requirement already satisfied: dash-table==5.0.0 in c:\\users\\91755\\anaconda3\\lib\\site-packages (from dash) (5.0.0)\n",
      "Requirement already satisfied: dash-html-components==2.0.0 in c:\\users\\91755\\anaconda3\\lib\\site-packages (from dash) (2.0.0)\n",
      "Requirement already satisfied: click>=5.1 in c:\\users\\91755\\anaconda3\\lib\\site-packages (from Flask>=1.0.4->dash) (7.1.2)\n",
      "Requirement already satisfied: itsdangerous>=0.24 in c:\\users\\91755\\anaconda3\\lib\\site-packages (from Flask>=1.0.4->dash) (1.1.0)\n",
      "Requirement already satisfied: Werkzeug>=0.15 in c:\\users\\91755\\anaconda3\\lib\\site-packages (from Flask>=1.0.4->dash) (1.0.1)\n",
      "Requirement already satisfied: Jinja2>=2.10.1 in c:\\users\\91755\\anaconda3\\lib\\site-packages (from Flask>=1.0.4->dash) (2.11.3)\n",
      "Requirement already satisfied: MarkupSafe>=0.23 in c:\\users\\91755\\anaconda3\\lib\\site-packages (from Jinja2>=2.10.1->Flask>=1.0.4->dash) (1.1.1)\n",
      "Requirement already satisfied: six in c:\\users\\91755\\anaconda3\\lib\\site-packages (from plotly>=5.0.0->dash) (1.15.0)\n",
      "Requirement already satisfied: tenacity>=6.2.0 in c:\\users\\91755\\anaconda3\\lib\\site-packages (from plotly>=5.0.0->dash) (8.0.1)\n",
      "Requirement already satisfied: python-dateutil>=2.7.3 in c:\\users\\91755\\anaconda3\\lib\\site-packages (from pandas) (2.8.1)\n",
      "Requirement already satisfied: pytz>=2017.3 in c:\\users\\91755\\anaconda3\\lib\\site-packages (from pandas) (2021.1)\n",
      "Requirement already satisfied: numpy>=1.16.5 in c:\\users\\91755\\anaconda3\\lib\\site-packages (from pandas) (1.20.1)\n",
      "Requirement already satisfied: brotli in c:\\users\\91755\\anaconda3\\lib\\site-packages (from flask-compress->dash) (1.0.9)\n",
      "Requirement already satisfied: jupyter-dash in c:\\users\\91755\\anaconda3\\lib\\site-packages (0.4.1)\n",
      "Requirement already satisfied: requests in c:\\users\\91755\\anaconda3\\lib\\site-packages (from jupyter-dash) (2.25.1)\n",
      "Requirement already satisfied: flask in c:\\users\\91755\\anaconda3\\lib\\site-packages (from jupyter-dash) (1.1.2)\n",
      "Requirement already satisfied: dash in c:\\users\\91755\\anaconda3\\lib\\site-packages (from jupyter-dash) (2.2.0)\n",
      "Requirement already satisfied: ipython in c:\\users\\91755\\anaconda3\\lib\\site-packages (from jupyter-dash) (7.22.0)\n",
      "Requirement already satisfied: ansi2html in c:\\users\\91755\\anaconda3\\lib\\site-packages (from jupyter-dash) (1.7.0)\n",
      "Requirement already satisfied: retrying in c:\\users\\91755\\anaconda3\\lib\\site-packages (from jupyter-dash) (1.3.3)\n",
      "Requirement already satisfied: ipykernel in c:\\users\\91755\\anaconda3\\lib\\site-packages (from jupyter-dash) (5.3.4)\n",
      "Requirement already satisfied: dash-core-components==2.0.0 in c:\\users\\91755\\anaconda3\\lib\\site-packages (from dash->jupyter-dash) (2.0.0)\n",
      "Requirement already satisfied: dash-table==5.0.0 in c:\\users\\91755\\anaconda3\\lib\\site-packages (from dash->jupyter-dash) (5.0.0)\n",
      "Requirement already satisfied: flask-compress in c:\\users\\91755\\anaconda3\\lib\\site-packages (from dash->jupyter-dash) (1.11)\n",
      "Requirement already satisfied: dash-html-components==2.0.0 in c:\\users\\91755\\anaconda3\\lib\\site-packages (from dash->jupyter-dash) (2.0.0)\n",
      "Requirement already satisfied: plotly>=5.0.0 in c:\\users\\91755\\anaconda3\\lib\\site-packages (from dash->jupyter-dash) (5.6.0)\n",
      "Requirement already satisfied: itsdangerous>=0.24 in c:\\users\\91755\\anaconda3\\lib\\site-packages (from flask->jupyter-dash) (1.1.0)\n",
      "Requirement already satisfied: Jinja2>=2.10.1 in c:\\users\\91755\\anaconda3\\lib\\site-packages (from flask->jupyter-dash) (2.11.3)\n",
      "Requirement already satisfied: click>=5.1 in c:\\users\\91755\\anaconda3\\lib\\site-packages (from flask->jupyter-dash) (7.1.2)\n",
      "Requirement already satisfied: Werkzeug>=0.15 in c:\\users\\91755\\anaconda3\\lib\\site-packages (from flask->jupyter-dash) (1.0.1)\n",
      "Requirement already satisfied: MarkupSafe>=0.23 in c:\\users\\91755\\anaconda3\\lib\\site-packages (from Jinja2>=2.10.1->flask->jupyter-dash) (1.1.1)\n",
      "Requirement already satisfied: tenacity>=6.2.0 in c:\\users\\91755\\anaconda3\\lib\\site-packages (from plotly>=5.0.0->dash->jupyter-dash) (8.0.1)\n",
      "Requirement already satisfied: six in c:\\users\\91755\\anaconda3\\lib\\site-packages (from plotly>=5.0.0->dash->jupyter-dash) (1.15.0)\n",
      "Requirement already satisfied: brotli in c:\\users\\91755\\anaconda3\\lib\\site-packages (from flask-compress->dash->jupyter-dash) (1.0.9)\n",
      "Requirement already satisfied: jupyter-client in c:\\users\\91755\\anaconda3\\lib\\site-packages (from ipykernel->jupyter-dash) (6.1.12)\n",
      "Requirement already satisfied: tornado>=4.2 in c:\\users\\91755\\anaconda3\\lib\\site-packages (from ipykernel->jupyter-dash) (6.1)\n",
      "Requirement already satisfied: traitlets>=4.1.0 in c:\\users\\91755\\anaconda3\\lib\\site-packages (from ipykernel->jupyter-dash) (5.0.5)\n",
      "Requirement already satisfied: pickleshare in c:\\users\\91755\\anaconda3\\lib\\site-packages (from ipython->jupyter-dash) (0.7.5)\n",
      "Requirement already satisfied: decorator in c:\\users\\91755\\anaconda3\\lib\\site-packages (from ipython->jupyter-dash) (5.0.6)\n",
      "Requirement already satisfied: prompt-toolkit!=3.0.0,!=3.0.1,<3.1.0,>=2.0.0 in c:\\users\\91755\\anaconda3\\lib\\site-packages (from ipython->jupyter-dash) (3.0.17)\n",
      "Requirement already satisfied: colorama in c:\\users\\91755\\anaconda3\\lib\\site-packages (from ipython->jupyter-dash) (0.4.4)\n",
      "Requirement already satisfied: setuptools>=18.5 in c:\\users\\91755\\anaconda3\\lib\\site-packages (from ipython->jupyter-dash) (52.0.0.post20210125)\n",
      "Requirement already satisfied: jedi>=0.16 in c:\\users\\91755\\anaconda3\\lib\\site-packages (from ipython->jupyter-dash) (0.17.2)\n",
      "Requirement already satisfied: backcall in c:\\users\\91755\\anaconda3\\lib\\site-packages (from ipython->jupyter-dash) (0.2.0)\n",
      "Requirement already satisfied: pygments in c:\\users\\91755\\anaconda3\\lib\\site-packages (from ipython->jupyter-dash) (2.8.1)\n",
      "Requirement already satisfied: parso<0.8.0,>=0.7.0 in c:\\users\\91755\\anaconda3\\lib\\site-packages (from jedi>=0.16->ipython->jupyter-dash) (0.7.0)\n",
      "Requirement already satisfied: wcwidth in c:\\users\\91755\\anaconda3\\lib\\site-packages (from prompt-toolkit!=3.0.0,!=3.0.1,<3.1.0,>=2.0.0->ipython->jupyter-dash) (0.2.5)\n",
      "Requirement already satisfied: ipython-genutils in c:\\users\\91755\\anaconda3\\lib\\site-packages (from traitlets>=4.1.0->ipykernel->jupyter-dash) (0.2.0)\n",
      "Requirement already satisfied: python-dateutil>=2.1 in c:\\users\\91755\\anaconda3\\lib\\site-packages (from jupyter-client->ipykernel->jupyter-dash) (2.8.1)\n",
      "Requirement already satisfied: jupyter-core>=4.6.0 in c:\\users\\91755\\anaconda3\\lib\\site-packages (from jupyter-client->ipykernel->jupyter-dash) (4.7.1)\n",
      "Requirement already satisfied: pyzmq>=13 in c:\\users\\91755\\anaconda3\\lib\\site-packages (from jupyter-client->ipykernel->jupyter-dash) (20.0.0)\n",
      "Requirement already satisfied: pywin32>=1.0 in c:\\users\\91755\\anaconda3\\lib\\site-packages (from jupyter-core>=4.6.0->jupyter-client->ipykernel->jupyter-dash) (227)\n",
      "Requirement already satisfied: idna<3,>=2.5 in c:\\users\\91755\\anaconda3\\lib\\site-packages (from requests->jupyter-dash) (2.10)\n",
      "Requirement already satisfied: chardet<5,>=3.0.2 in c:\\users\\91755\\anaconda3\\lib\\site-packages (from requests->jupyter-dash) (4.0.0)\n",
      "Requirement already satisfied: certifi>=2017.4.17 in c:\\users\\91755\\anaconda3\\lib\\site-packages (from requests->jupyter-dash) (2020.12.5)\n",
      "Requirement already satisfied: urllib3<1.27,>=1.21.1 in c:\\users\\91755\\anaconda3\\lib\\site-packages (from requests->jupyter-dash) (1.26.4)\n"
     ]
    }
   ],
   "source": [
    "# Enviroment setting up\n",
    "!pip install pandas dash\n",
    "!pip install jupyter-dash\n"
   ]
  },
  {
   "cell_type": "code",
   "execution_count": 2,
   "id": "e487a647",
   "metadata": {},
   "outputs": [],
   "source": [
    "import wget"
   ]
  },
  {
   "cell_type": "code",
   "execution_count": 5,
   "id": "e6a128dc",
   "metadata": {},
   "outputs": [
    {
     "name": "stdout",
     "output_type": "stream",
     "text": [
      "100% [................................................................................] 3033 / 3033"
     ]
    }
   ],
   "source": [
    "spacex_csv_file = wget.download('https://cf-courses-data.s3.us.cloud-object-storage.appdomain.cloud/IBM-DS0321EN-SkillsNetwork/datasets/spacex_launch_dash.csv')\n",
    "spacex_df= pd.read_csv(spacex_csv_file)"
   ]
  },
  {
   "cell_type": "code",
   "execution_count": 6,
   "id": "c336b11d",
   "metadata": {},
   "outputs": [
    {
     "data": {
      "text/html": [
       "\n",
       "        <iframe\n",
       "            width=\"100%\"\n",
       "            height=\"650\"\n",
       "            src=\"http://127.0.0.1:8050/\"\n",
       "            frameborder=\"0\"\n",
       "            allowfullscreen\n",
       "        ></iframe>\n",
       "        "
      ],
      "text/plain": [
       "<IPython.lib.display.IFrame at 0x12e303440a0>"
      ]
     },
     "metadata": {},
     "output_type": "display_data"
    }
   ],
   "source": [
    "# Import required libraries\n",
    "from jupyter_dash import JupyterDash\n",
    "import pandas as pd\n",
    "import dash\n",
    "from dash import dcc\n",
    "from dash import html\n",
    "from dash.dependencies import Input, Output, State\n",
    "import plotly.graph_objects as go\n",
    "import plotly.express as px\n",
    "from dash import no_update\n",
    "\n",
    "# Read the airline data into pandas dataframe\n",
    "spacex_df \n",
    "max_payload = spacex_df['Payload Mass (kg)'].max()\n",
    "min_payload = spacex_df['Payload Mass (kg)'].min()\n",
    "\n",
    "# Create a dash application\n",
    "app = JupyterDash(__name__)\n",
    "\n",
    "# Create an app layout\n",
    "app.layout = html.Div(children=[html.H1('SpaceX Launch Records Dashboard',\n",
    "                                        style={'textAlign': 'center', 'color': '#503D36',\n",
    "                                               'font-size': 40}),\n",
    "                                # TASK 1: Add a dropdown list to enable Launch Site selection\n",
    "                                # The default select value is for ALL sites\n",
    "                                dcc.Dropdown(id='site-dropdown',\n",
    "                                             options=[\n",
    "                                                {'label': 'All Sites', 'value': 'ALL'},\n",
    "                                                {'label': 'CCAFS LC-40', 'value': 'CCAFS LC-40'},\n",
    "                                                {'label': 'CCAFS SLC-40', 'value': 'CCAFS SLC-40'},\n",
    "                                                {'label': 'KSC LC-39A', 'value':'KSC LC-39A'},\n",
    "                                                {'label': 'VAFB SLC-4E', 'value':'VAFB SLC-4E'}\n",
    "                                             ],\n",
    "                                             # Default dropdown value\n",
    "                                             value='ALL',\n",
    "                                             placeholder=\"Select a launch site\",\n",
    "                                             searchable=True),\n",
    "                                html.Br(),\n",
    "\n",
    "                                # TASK 2: Add a pie chart to show the total successful launches count for all sites\n",
    "                                # If a specific launch site was selected, show the Success vs. Failed counts for the site\n",
    "                                html.Div(dcc.Graph(id='success-pie-chart')),\n",
    "                                html.Br(),\n",
    "\n",
    "                                html.P(\"Payload range (Kg):\"),\n",
    "                                # TASK 3: Add a slider to select payload range\n",
    "                                dcc.RangeSlider(id='payload-slider',\n",
    "                                                min=0, max=10000, step=1000,\n",
    "                                                marks={0: '0',\n",
    "                                                       2500: '2500',\n",
    "                                                       5000: '5000',\n",
    "                                                       7500: '7500'},\n",
    "                                                value=[min_payload, max_payload]),\n",
    "\n",
    "                                # TASK 4: Add a scatter chart to show the correlation between payload and launch success\n",
    "                                html.Div(dcc.Graph(id='success-payload-scatter-chart')),\n",
    "                                ])\n",
    "\n",
    "# TASK 2:\n",
    "# Add a callback function for `site-dropdown` as input, `success-pie-chart` as output\n",
    "@app.callback(Output(component_id='success-pie-chart', component_property='figure'),\n",
    "              Input(component_id='site-dropdown', component_property='value'))\n",
    "\n",
    "def render_pie_chart(entered_site):\n",
    "  # Filtered dataframe for else condition\n",
    "    filtered_df = spacex_df[spacex_df['Launch Site']==str(entered_site)]\n",
    "    if entered_site == 'ALL':\n",
    "        fig = px.pie(spacex_df, values='class', \n",
    "        names='Launch Site', \n",
    "        title='Launch in all sites')\n",
    "        return fig\n",
    "    else:\n",
    "        fig = px.pie(filtered_df, names='class', title=f'Launch in {entered_site}')\n",
    "        return fig\n",
    "\n",
    "# TASK 4:\n",
    "# Add a callback function for `site-dropdown` and `payload-slider` as inputs, `success-payload-scatter-chart` as output\n",
    "@app.callback(Output(component_id='success-payload-scatter-chart', component_property='figure'),\n",
    "              [Input(component_id='site-dropdown', component_property='value'), \n",
    "               Input(component_id='payload-slider', component_property='value')])\n",
    "\n",
    "def render_scatter_plot(entered_site, slider_payload):\n",
    "    filtered_df = spacex_df[(spacex_df['Payload Mass (kg)'] >= slider_payload[0]) & (spacex_df['Payload Mass (kg)'] <= slider_payload[1])]\n",
    "    if entered_site == 'ALL':\n",
    "      fig = px.scatter(filtered_df, x='Payload Mass (kg)', y='class', color='Booster Version Category', title='All site payload and outcome')\n",
    "      return fig\n",
    "    else:\n",
    "      filtered_df = filtered_df[filtered_df['Launch Site']==entered_site]\n",
    "      fig = px.scatter(filtered_df, x='Payload Mass (kg)', y = 'class', color='Booster Version Category', title=f'Site {entered_site} Payload and outcome')\n",
    "      return fig\n",
    "\n",
    "# Run the app\n",
    "app.run_server(mode='inline', debug=True)"
   ]
  },
  {
   "cell_type": "code",
   "execution_count": null,
   "id": "8e15b386",
   "metadata": {},
   "outputs": [],
   "source": []
  },
  {
   "cell_type": "code",
   "execution_count": null,
   "id": "dfca7df4",
   "metadata": {},
   "outputs": [],
   "source": []
  }
 ],
 "metadata": {
  "kernelspec": {
   "display_name": "Python 3",
   "language": "python",
   "name": "python3"
  },
  "language_info": {
   "codemirror_mode": {
    "name": "ipython",
    "version": 3
   },
   "file_extension": ".py",
   "mimetype": "text/x-python",
   "name": "python",
   "nbconvert_exporter": "python",
   "pygments_lexer": "ipython3",
   "version": "3.8.8"
  }
 },
 "nbformat": 4,
 "nbformat_minor": 5
}
